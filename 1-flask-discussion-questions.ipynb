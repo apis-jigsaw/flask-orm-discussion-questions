{
 "cells": [
  {
   "cell_type": "markdown",
   "id": "247c7a5c-d9a4-4c29-b520-8a34e679e3a2",
   "metadata": {},
   "source": [
    "# Flask Discussion Questions"
   ]
  },
  {
   "cell_type": "markdown",
   "id": "a3aa4225-5c0b-44a0-99d4-6ec2ae82a083",
   "metadata": {},
   "source": [
    "### A. Flask Questions"
   ]
  },
  {
   "cell_type": "markdown",
   "id": "596a89b8-9b0d-4cdf-879c-6e0e6f1b1846",
   "metadata": {},
   "source": [
    "* Describe the request response cycle.  For example, let's say that we have an API for a school that keeps track of the different courses that teachers teach.  What are the steps that occur when a user visits `/teachers/<id>`."
   ]
  },
  {
   "cell_type": "markdown",
   "id": "32455d1e-29c9-4a75-832a-7848cea7fe2d",
   "metadata": {},
   "source": [
    "* Please fill in the controller action for the method above -- do not use any orm method except for `build_from_record`."
   ]
  },
  {
   "cell_type": "markdown",
   "id": "48f235e8-c715-4fd5-8979-c8c1d3024554",
   "metadata": {},
   "source": [
    "```python\n",
    "@app.route('/teachers/<id>')\n",
    "# fill in the code here below\n",
    "\n",
    "```"
   ]
  },
  {
   "cell_type": "markdown",
   "id": "f1339b23-1f8e-4191-8e5d-f2b5ed073ade",
   "metadata": {},
   "source": [
    "* Now describe the role of a controller in MVC. \n",
    "\n",
    "> Write a few lines below"
   ]
  },
  {
   "cell_type": "markdown",
   "id": "ec3976fc-11ec-4263-ad99-ddaa3c890a44",
   "metadata": {},
   "source": [
    "* What is the role of a model in the MVC paradigm.\n",
    "\n",
    "> Write a few lines below."
   ]
  },
  {
   "cell_type": "markdown",
   "id": "c0798465-f222-4413-bd40-783c398d2792",
   "metadata": {},
   "source": [
    "* Ok, now why do we even have a pattern like MVC?  How would our life be different if we didn't have it?"
   ]
  },
  {
   "cell_type": "markdown",
   "id": "a0e752a4-b611-4665-9cf8-dd5b3c228de1",
   "metadata": {},
   "source": [
    "### B. Modeling Questions"
   ]
  },
  {
   "cell_type": "markdown",
   "id": "1b2a9846-e3fc-4e3c-a907-5ee7a445e9c6",
   "metadata": {},
   "source": [
    "* Now let's go back to thinking about our school domain.  If we have teachers, students and courses.  Using language such as has_one, and has_many, what are the relations between `teachers`, `students`, and `courses`.\n",
    "\n",
    "Now specify the columns for all needed tables.  We really only care about primary and foreign keys.  The only other column you need is essentially a name column.\n",
    "\n",
    "Add the missing columns and any missing tables."
   ]
  },
  {
   "cell_type": "markdown",
   "id": "b164a936-913b-4133-b565-a4d351f4bfd7",
   "metadata": {},
   "source": [
    "* teachers\n",
    "\n",
    "    * id, name\n",
    "    \n",
    "* students\n",
    "\n",
    "    * id, name\n",
    "    \n",
    "* courses\n",
    "\n",
    "    * id, name"
   ]
  },
  {
   "cell_type": "markdown",
   "id": "cf5f602d-e1aa-4c1a-a52a-de324d5b0e2c",
   "metadata": {},
   "source": [
    "* Now consider that we have the following code from our orm.py file.\n"
   ]
  },
  {
   "cell_type": "code",
   "execution_count": 2,
   "id": "7d9ce905-8ce9-4a12-a937-f563cd225521",
   "metadata": {},
   "outputs": [],
   "source": [
    "def build_from_record(Class, record):\n",
    "    if not record: return None\n",
    "    attr = dict(zip(Class.columns, record))\n",
    "    obj = Class()\n",
    "    obj.__dict__ = attr\n",
    "    return obj"
   ]
  },
  {
   "cell_type": "markdown",
   "id": "adf69666-86ee-40f7-8291-f100f555f3ca",
   "metadata": {},
   "source": [
    "And the following Teacher model.  Fill in the related code so that we return a list of related courses and a list of related students to a teacher.\n",
    "\n",
    "> The most important component below is the sql query."
   ]
  },
  {
   "cell_type": "code",
   "execution_count": null,
   "id": "85145f10-1099-4499-8a75-345b97604142",
   "metadata": {},
   "outputs": [],
   "source": [
    "class Teacher:\n",
    "    __table__ = 'teachers'\n",
    "    columns = ['id', 'name']\n",
    "    \n",
    "    def courses(self, cursor):\n",
    "        pass\n",
    "    \n",
    "    def students(self, cursor):\n",
    "        pass"
   ]
  }
 ],
 "metadata": {
  "kernelspec": {
   "display_name": "Python 3 (ipykernel)",
   "language": "python",
   "name": "python3"
  },
  "language_info": {
   "codemirror_mode": {
    "name": "ipython",
    "version": 3
   },
   "file_extension": ".py",
   "mimetype": "text/x-python",
   "name": "python",
   "nbconvert_exporter": "python",
   "pygments_lexer": "ipython3",
   "version": "3.9.12"
  }
 },
 "nbformat": 4,
 "nbformat_minor": 5
}
